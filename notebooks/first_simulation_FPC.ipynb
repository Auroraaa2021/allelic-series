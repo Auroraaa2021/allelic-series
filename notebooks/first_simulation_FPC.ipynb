{
 "cells": [
  {
   "cell_type": "code",
   "execution_count": 52,
   "id": "95bb9cbb-16d8-4a36-86c6-344eb351db26",
   "metadata": {},
   "outputs": [],
   "source": [
    "import pandas as pd\n",
    "import pylab as plt\n",
    "import torch\n",
    "import numpy as np\n",
    "import scipy as sp\n",
    "import scipy.stats as st"
   ]
  },
  {
   "cell_type": "code",
   "execution_count": 2,
   "id": "a154e40b-b1f0-40e5-99b1-d58e87f74845",
   "metadata": {},
   "outputs": [
    {
     "data": {
      "text/html": [
       "<div>\n",
       "<style scoped>\n",
       "    .dataframe tbody tr th:only-of-type {\n",
       "        vertical-align: middle;\n",
       "    }\n",
       "\n",
       "    .dataframe tbody tr th {\n",
       "        vertical-align: top;\n",
       "    }\n",
       "\n",
       "    .dataframe thead th {\n",
       "        text-align: right;\n",
       "    }\n",
       "</style>\n",
       "<table border=\"1\" class=\"dataframe\">\n",
       "  <thead>\n",
       "    <tr style=\"text-align: right;\">\n",
       "      <th></th>\n",
       "      <th>SNP</th>\n",
       "      <th>CHROM</th>\n",
       "      <th>POS</th>\n",
       "      <th>A1</th>\n",
       "      <th>A2</th>\n",
       "      <th>ANN</th>\n",
       "      <th>AC</th>\n",
       "      <th>N</th>\n",
       "    </tr>\n",
       "  </thead>\n",
       "  <tbody>\n",
       "    <tr>\n",
       "      <th>0</th>\n",
       "      <td>2:21001734:A:G</td>\n",
       "      <td>2</td>\n",
       "      <td>21001734</td>\n",
       "      <td>G</td>\n",
       "      <td>A</td>\n",
       "      <td>missense|LC</td>\n",
       "      <td>1</td>\n",
       "      <td>343486</td>\n",
       "    </tr>\n",
       "    <tr>\n",
       "      <th>1</th>\n",
       "      <td>2:21001742:A:G</td>\n",
       "      <td>2</td>\n",
       "      <td>21001742</td>\n",
       "      <td>G</td>\n",
       "      <td>A</td>\n",
       "      <td>synonymous</td>\n",
       "      <td>1436</td>\n",
       "      <td>343486</td>\n",
       "    </tr>\n",
       "    <tr>\n",
       "      <th>2</th>\n",
       "      <td>2:21001743:G:A</td>\n",
       "      <td>2</td>\n",
       "      <td>21001743</td>\n",
       "      <td>A</td>\n",
       "      <td>G</td>\n",
       "      <td>missense|LC</td>\n",
       "      <td>3</td>\n",
       "      <td>343486</td>\n",
       "    </tr>\n",
       "    <tr>\n",
       "      <th>3</th>\n",
       "      <td>2:21001757:A:G</td>\n",
       "      <td>2</td>\n",
       "      <td>21001757</td>\n",
       "      <td>G</td>\n",
       "      <td>A</td>\n",
       "      <td>synonymous</td>\n",
       "      <td>1</td>\n",
       "      <td>343486</td>\n",
       "    </tr>\n",
       "    <tr>\n",
       "      <th>4</th>\n",
       "      <td>2:21001759:C:A</td>\n",
       "      <td>2</td>\n",
       "      <td>21001759</td>\n",
       "      <td>A</td>\n",
       "      <td>C</td>\n",
       "      <td>missense|LC</td>\n",
       "      <td>10</td>\n",
       "      <td>343486</td>\n",
       "    </tr>\n",
       "    <tr>\n",
       "      <th>...</th>\n",
       "      <td>...</td>\n",
       "      <td>...</td>\n",
       "      <td>...</td>\n",
       "      <td>...</td>\n",
       "      <td>...</td>\n",
       "      <td>...</td>\n",
       "      <td>...</td>\n",
       "      <td>...</td>\n",
       "    </tr>\n",
       "    <tr>\n",
       "      <th>2763</th>\n",
       "      <td>2:21043917:GC:G</td>\n",
       "      <td>2</td>\n",
       "      <td>21043917</td>\n",
       "      <td>G</td>\n",
       "      <td>GC</td>\n",
       "      <td>pLoF</td>\n",
       "      <td>405</td>\n",
       "      <td>343486</td>\n",
       "    </tr>\n",
       "    <tr>\n",
       "      <th>2764</th>\n",
       "      <td>2:21043928:G:T</td>\n",
       "      <td>2</td>\n",
       "      <td>21043928</td>\n",
       "      <td>T</td>\n",
       "      <td>G</td>\n",
       "      <td>synonymous</td>\n",
       "      <td>1</td>\n",
       "      <td>343486</td>\n",
       "    </tr>\n",
       "    <tr>\n",
       "      <th>2765</th>\n",
       "      <td>2:21043929:G:T</td>\n",
       "      <td>2</td>\n",
       "      <td>21043929</td>\n",
       "      <td>T</td>\n",
       "      <td>G</td>\n",
       "      <td>missense|LC</td>\n",
       "      <td>1</td>\n",
       "      <td>343486</td>\n",
       "    </tr>\n",
       "    <tr>\n",
       "      <th>2766</th>\n",
       "      <td>2:21043935:G:C</td>\n",
       "      <td>2</td>\n",
       "      <td>21043935</td>\n",
       "      <td>C</td>\n",
       "      <td>G</td>\n",
       "      <td>missense|LC</td>\n",
       "      <td>3</td>\n",
       "      <td>343486</td>\n",
       "    </tr>\n",
       "    <tr>\n",
       "      <th>2767</th>\n",
       "      <td>2:21043938:G:C</td>\n",
       "      <td>2</td>\n",
       "      <td>21043938</td>\n",
       "      <td>C</td>\n",
       "      <td>G</td>\n",
       "      <td>missense|LC</td>\n",
       "      <td>3</td>\n",
       "      <td>343486</td>\n",
       "    </tr>\n",
       "  </tbody>\n",
       "</table>\n",
       "<p>2768 rows × 8 columns</p>\n",
       "</div>"
      ],
      "text/plain": [
       "                  SNP  CHROM       POS A1  A2          ANN    AC       N\n",
       "0      2:21001734:A:G      2  21001734  G   A  missense|LC     1  343486\n",
       "1      2:21001742:A:G      2  21001742  G   A   synonymous  1436  343486\n",
       "2      2:21001743:G:A      2  21001743  A   G  missense|LC     3  343486\n",
       "3      2:21001757:A:G      2  21001757  G   A   synonymous     1  343486\n",
       "4      2:21001759:C:A      2  21001759  A   C  missense|LC    10  343486\n",
       "...               ...    ...       ... ..  ..          ...   ...     ...\n",
       "2763  2:21043917:GC:G      2  21043917  G  GC         pLoF   405  343486\n",
       "2764   2:21043928:G:T      2  21043928  T   G   synonymous     1  343486\n",
       "2765   2:21043929:G:T      2  21043929  T   G  missense|LC     1  343486\n",
       "2766   2:21043935:G:C      2  21043935  C   G  missense|LC     3  343486\n",
       "2767   2:21043938:G:C      2  21043938  C   G  missense|LC     3  343486\n",
       "\n",
       "[2768 rows x 8 columns]"
      ]
     },
     "execution_count": 2,
     "metadata": {},
     "output_type": "execute_result"
    }
   ],
   "source": [
    "df = pd.read_csv(\"./../data/APOB.txt\", sep='\\t', header=None)\n",
    "del df[2]\n",
    "del df[6]\n",
    "df[8] = df[8].astype(int)\n",
    "df.columns = ['SNP', 'CHROM', 'POS', 'A1', 'A2', 'ANN', 'AC', 'N']\n",
    "df"
   ]
  },
  {
   "cell_type": "code",
   "execution_count": 3,
   "id": "88114016-450e-4507-aa11-37464037b115",
   "metadata": {},
   "outputs": [
    {
     "data": {
      "image/png": "[encoded data removed]",
      "text/plain": [
       "<Figure size 288x216 with 1 Axes>"
      ]
     },
     "metadata": {
      "needs_background": "light"
     },
     "output_type": "display_data"
    }
   ],
   "source": [
    "plt.figure(1, figsize=(4,3))\n",
    "_ = plt.hist(df['AC'], 50)\n",
    "plt.yscale('log')\n",
    "plt.xlabel('Allele count')\n",
    "plt.ylabel('Number of variants')\n",
    "plt.tight_layout()"
   ]
  },
  {
   "cell_type": "markdown",
   "id": "f775d17b-a39f-4dc3-9010-4aa5088ffebe",
   "metadata": {},
   "source": [
    "## Simulate X"
   ]
  },
  {
   "cell_type": "code",
   "execution_count": 132,
   "id": "45acba22-e025-4053-b355-a19f55281928",
   "metadata": {},
   "outputs": [],
   "source": [
    "def simulate_X(N, S, count):\n",
    "    \"\"\"\n",
    "    Create a true 0/1 sparse tensor of dimensions N x S such that the sum of each column\n",
    "    matches the corresponding count in the `count` array.\n",
    "\n",
    "    Args:\n",
    "    N (int): Number of rows.\n",
    "    S (int): Number of columns.\n",
    "    count (torch.Tensor): A 1D tensor of size S containing the count for each column.\n",
    "\n",
    "    Returns:\n",
    "    torch.Tensor: The resulting sparse tensor.\n",
    "    \"\"\"\n",
    "    indices = []\n",
    "    values = []\n",
    "\n",
    "    for i in range(S):\n",
    "        # Ensure the count does not exceed N\n",
    "        num_ones = min(N, count[i])\n",
    "\n",
    "        # Randomly choose positions to set to 1\n",
    "        ones_positions = torch.randperm(N)[:num_ones]\n",
    "\n",
    "        # Append the indices for the non-zero values\n",
    "        for pos in ones_positions:\n",
    "            indices.append([pos, i])\n",
    "            values.append(1)\n",
    "\n",
    "    # Convert lists to tensors\n",
    "    indices_tensor = torch.tensor(indices).t().to(torch.int64)\n",
    "    values_tensor = torch.tensor(values, dtype=torch.float)\n",
    "\n",
    "    # Create a sparse tensor\n",
    "    sparse_tensor = torch.sparse_coo_tensor(indices_tensor, values_tensor, (N, S))\n",
    "\n",
    "    return sparse_tensor"
   ]
  },
  {
   "cell_type": "code",
   "execution_count": 133,
   "id": "dec69c22-6924-4267-bd15-ab02170d421b",
   "metadata": {},
   "outputs": [],
   "source": [
    "# generate X\n",
    "N = df['N'].values[0]\n",
    "S = df.shape[0]\n",
    "count = df['AC'].values\n",
    "X = simulate_X(N, S, count)"
   ]
  },
  {
   "cell_type": "markdown",
   "id": "bda416e2-5871-4a2b-aeee-dfed874406a1",
   "metadata": {},
   "source": [
    "## Annotation dataframe"
   ]
  },
  {
   "cell_type": "code",
   "execution_count": 102,
   "id": "63ef6594-cfd8-46a8-b9bb-7724f4dd1ae4",
   "metadata": {},
   "outputs": [],
   "source": [
    "dfannot = 1. * pd.get_dummies(df['ANN'])\n",
    "dfannot['AF'] = df['AC'] / df['N']"
   ]
  },
  {
   "cell_type": "markdown",
   "id": "c07bf7d6-c245-4395-98ab-cd4640bafc89",
   "metadata": {},
   "source": [
    "## Allelic series simulation"
   ]
  },
  {
   "cell_type": "code",
   "execution_count": 103,
   "id": "089a3a26-208b-47bb-8efe-00e0f3d58a88",
   "metadata": {},
   "outputs": [],
   "source": [
    "def beta_pdf(maf, alpha):\n",
    "    out = st.beta.pdf(maf, alpha, 1)\n",
    "    return out / out.min()"
   ]
  },
  {
   "cell_type": "code",
   "execution_count": 122,
   "id": "74b75470-5a29-4ce1-8437-28a5c5a9f29e",
   "metadata": {},
   "outputs": [],
   "source": [
    "def estimate_effect(dfannot, alpha=0.8):\n",
    "    beta_eff = beta_pdf(dfannot['AF'].values, alpha)\n",
    "    effects = dfannot['missense|LC'].values * beta_eff\n",
    "    effects+= 1.5 * dfannot['pLoF'].values * beta_eff\n",
    "    return effects"
   ]
  },
  {
   "cell_type": "code",
   "execution_count": 126,
   "id": "2797a4b4-028e-45c0-81ac-aff74538534c",
   "metadata": {},
   "outputs": [
    {
     "data": {
      "image/png": "[encoded data removed]",
      "text/plain": [
       "<Figure size 432x288 with 1 Axes>"
      ]
     },
     "metadata": {
      "needs_background": "light"
     },
     "output_type": "display_data"
    }
   ],
   "source": [
    "# Define effect\n",
    "effects = estimate_effect(dfannot)\n",
    "plt.plot(dfannot['AF'].values[dfannot['missense|LC']==1], effects[dfannot['missense|LC']==1], '.', color='C0', label='missense|LC')\n",
    "plt.plot(dfannot['AF'].values[dfannot['pLoF']==1], effects[dfannot['pLoF']==1], '.', color='C1', label='pLoF')\n",
    "plt.plot(dfannot['AF'].values[dfannot['synonymous']==1], effects[dfannot['synonymous']==1], '.', color='C2', label='synonymous')\n",
    "plt.legend(loc=1)\n",
    "plt.xlabel('MAF')\n",
    "plt.ylabel('Expected eff')\n",
    "plt.tight_layout()"
   ]
  },
  {
   "cell_type": "code",
   "execution_count": 144,
   "id": "c47a7060-ef6a-4765-8202-d35c6d6265ce",
   "metadata": {},
   "outputs": [],
   "source": [
    "genescore = X.mm(torch.Tensor(effects[:,None]))\n",
    "y = torch.sigmoid(genescore - 6)"
   ]
  },
  {
   "cell_type": "code",
   "execution_count": 148,
   "id": "d2091e62-36d2-4028-ab6b-eaa158ff3517",
   "metadata": {},
   "outputs": [
    {
     "data": {
      "text/plain": [
       "Text(0.5, 0, 'Aggregate linear score')"
      ]
     },
     "execution_count": 148,
     "metadata": {},
     "output_type": "execute_result"
    },
    {
     "data": {
      "image/png": "[encoded data removed]",
      "text/plain": [
       "<Figure size 432x288 with 1 Axes>"
      ]
     },
     "metadata": {
      "needs_background": "light"
     },
     "output_type": "display_data"
    }
   ],
   "source": [
    "plt.plot(genescore.data.numpy().ravel(), y.data.numpy().ravel(), '.k', alpha=0.01)\n",
    "plt.ylabel('Pheno effect')\n",
    "plt.xlabel('Aggregate linear score')"
   ]
  },
  {
   "cell_type": "code",
   "execution_count": 31,
   "id": "12809aa3-1ab1-4240-b794-4847b411970a",
   "metadata": {},
   "outputs": [],
   "source": [
    "# X = 343486 x 2767\n",
    "# X.sum(0) <- match the real data\n",
    "\n",
    "# burden score for pLoF\n",
    "#Ikeep = df['ANN'].values=='pLoF'\n",
    "#burden_pLof = X[:, Ikeep].max(1)\n",
    "#y <-> burden_pLof"
   ]
  },
  {
   "cell_type": "code",
   "execution_count": null,
   "id": "4c52ce8b-0369-4bdc-b3e9-12f274c602c1",
   "metadata": {},
   "outputs": [],
   "source": []
  }
 ],
 "metadata": {
  "kernelspec": {
   "display_name": "Python 3 (ipykernel)",
   "language": "python",
   "name": "python3"
  },
  "language_info": {
   "codemirror_mode": {
    "name": "ipython",
    "version": 3
   },
   "file_extension": ".py",
   "mimetype": "text/x-python",
   "name": "python",
   "nbconvert_exporter": "python",
   "pygments_lexer": "ipython3",
   "version": "3.9.7"
  }
 },
 "nbformat": 4,
 "nbformat_minor": 5
}
